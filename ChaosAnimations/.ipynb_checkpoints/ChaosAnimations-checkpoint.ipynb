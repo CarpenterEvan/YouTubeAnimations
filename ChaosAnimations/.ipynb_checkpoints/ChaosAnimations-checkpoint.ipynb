{
 "cells": [
  {
   "cell_type": "code",
   "execution_count": 1,
   "id": "80d7e147",
   "metadata": {},
   "outputs": [],
   "source": [
    "import numpy as np\n",
    "from matplotlib import pyplot as plt\n",
    "from matplotlib import animation\n",
    "from matplotlib.animation import FuncAnimation\n",
    "from scipy.integrate import solve_ivp\n",
    "%matplotlib qt"
   ]
  },
  {
   "cell_type": "code",
   "execution_count": 11,
   "id": "049185ab",
   "metadata": {},
   "outputs": [],
   "source": [
    "d_0 = [0.001, 0, 0]\n",
    "r0 = [6, 6, 6] \n",
    "r1 = [r0[i] + d_0[i] for i in range(3)] \n",
    "r2 = [r0[i] + 0.1*d_0[i] for i in range(3)] \n",
    "\n",
    "end = 40\n",
    "N = 1000\n",
    "\n",
    "t_ev = np.linspace(0, end, N)\n",
    "t_sp = [0, len(t_ev)]\n",
    "\n",
    "def lorenz(t, r):\n",
    "    x, y, z = r\n",
    "    fx = 10 * (y - x)\n",
    "    fy = 28 * x - y - x * z\n",
    "    fz =  x * y - (8.0 / 3.0) * z\n",
    "    return np.array([fx, fy, fz], float)"
   ]
  },
  {
   "cell_type": "code",
   "execution_count": 4,
   "id": "48947158",
   "metadata": {},
   "outputs": [],
   "source": [
    "sol_0 = solve_ivp(lorenz, t_span = t_sp, y0 = r0, t_eval = t_ev)\n",
    "sol_1 = solve_ivp(lorenz, t_span = t_sp, y0 = r1, t_eval = t_ev)\n",
    "sol_2 = solve_ivp(lorenz, t_span = t_sp, y0 = r2, t_eval = t_ev)\n",
    "\n",
    "t = sol_0.t\n",
    "y0_x, y0_y, y0_z = sol_0.y\n",
    "y1_x, y1_y, y1_z = sol_1.y"
   ]
  },
  {
   "cell_type": "code",
   "execution_count": null,
   "id": "29f68ec2",
   "metadata": {},
   "outputs": [],
   "source": [
    "fig0 = plt.figure(figsize=(10,5))\n",
    "ax0 = fig0.gca() #plt.subplots(figsize=(20,5))\n",
    "\n",
    "xline, = ax0.plot(sol_0.t, y0_x)\n",
    "yline, = ax0.plot(sol_0.t, y0_y)\n",
    "zline, = ax0.plot(sol_0.t, y0_z)\n",
    "ax0.legend([xline, yline, zline], [\"x\",\"y\",\"z\"])\n",
    "\n",
    "plt.tight_layout()\n",
    "plt.savefig(f\"{r0[0],r0[1],r0[2],d_0[0],d_0[1],d_0[2]}.jpeg\", format=\"jpeg\", dpi=180, edgecolor=\"white\")\n",
    "#plt.show()"
   ]
  },
  {
   "cell_type": "code",
   "execution_count": null,
   "id": "f2c22f00",
   "metadata": {},
   "outputs": [],
   "source": [
    "fig, ax = plt.subplots(2,1)\n",
    "ax[0].set_title(\"Initial condition 1: {}\\n Initial condition 2: {}\".format(r0,r1))\n",
    "ax[1].set_ylim([-1, 30])\n",
    "ax[0].set_xlim([0, 40])\n",
    "ax[0].set_ylim([-20, 20])\n",
    "ax[1].set_xlim([0, 40])\n",
    "ax[1].set_title(\"Absolute Difference\")\n",
    "\n",
    "tdata = []\n",
    "y0data = []\n",
    "y1data = []\n",
    "\n",
    "lines = []\n",
    "lines1 = []\n",
    "lines2 = []\n",
    "def animate(i):\n",
    "    #global y0data #????\n",
    "    tdata.append(t[i])\n",
    "    y0data.append(y0_x[i])\n",
    "    y1data.append(y1_x[i])\n",
    "    \n",
    "    global ax, lines, lines1, lines2\n",
    "    for line in lines:\n",
    "        line.remove()\n",
    "    for line in lines1:\n",
    "        line.remove()\n",
    "    for line in lines2:\n",
    "        line.remove()\n",
    "    \n",
    "    lines1 = ax[0].plot(tdata, y1data, lw = 0.75, color=\"red\")\n",
    "    lines = ax[0].plot(tdata, y0data, lw = 0.75, color=\"blue\") \n",
    "    lines2 = ax[1].plot(tdata, [np.abs(y1data[i]-y0data[i]) for i in range(len(y0data))], color=\"purple\", lw=1)\n",
    "    return ax\n",
    "\n",
    "ani = FuncAnimation(fig, \n",
    "                    animate, \n",
    "                    frames = len(t_ev), \n",
    "                    interval = 10, \n",
    "                    repeat = False, \n",
    "                    blit=True)\n",
    "plt.tight_layout()\n",
    "plt.show()"
   ]
  },
  {
   "cell_type": "code",
   "execution_count": null,
   "id": "d9d264d7",
   "metadata": {},
   "outputs": [],
   "source": [
    "from matplotlib.animation import PillowWriter\n",
    "writer = PillowWriter(fps=30)\n",
    "ani.save(\"sine_example.gif\", writer=writer)"
   ]
  },
  {
   "cell_type": "code",
   "execution_count": null,
   "id": "1433ac27",
   "metadata": {},
   "outputs": [],
   "source": [
    "import numpy as np\n",
    "import matplotlib.pyplot as plt\n",
    "from matplotlib.animation import FuncAnimation, writers\n",
    "\n",
    "x_data = []\n",
    "y_data = []\n",
    "\n",
    "fig, ax = plt.subplots()\n",
    "ax.set_xlim(0, 40)\n",
    "ax.set_ylim(-20, 20)\n",
    "line, = ax.plot(0, 0)\n",
    "\n",
    "def animation_frame(i):\n",
    "    x_data.append(t[i])\n",
    "    y_data.append(y0_x[i])\n",
    "\n",
    "    line.set_xdata(x_data)\n",
    "    line.set_ydata(y_data)\n",
    "    return line, \n",
    "\n",
    "animation = FuncAnimation(fig, func=animation_frame, frames=len(t_ev), interval=10)\n",
    "\n",
    "# setting up wrtiers object\n",
    "#Writer = writers['ffmpeg']\n",
    "#writer = Writer(fps=15, metadata={'artist': 'Me'}, bitrate=1800)\n",
    "\n",
    "#animation.save('Line Graph Animation.mp4', writer)\n",
    "\n",
    "plt.show()"
   ]
  },
  {
   "cell_type": "code",
   "execution_count": null,
   "id": "783f8b79",
   "metadata": {},
   "outputs": [],
   "source": [
    "fig, ax = plt.subplots(1,3, figsize=(15,5))\n",
    "\n",
    "ax[0].set_title(\"x-y\")\n",
    "ax[0].set_ylabel(\"y\")\n",
    "ax[0].set_xlim(-30,30)\n",
    "ax[0].set_ylim(-30,30)\n",
    "\n",
    "ax[1].set_title(\"y-z\")\n",
    "ax[1].set_xlim(-30,30)\n",
    "ax[1].set_ylim(  0,50)\n",
    "\n",
    "ax[2].set_title(\"x-z\")\n",
    "ax[2].set_xlim(-30,30)\n",
    "ax[2].set_ylim(  0,50)\n",
    "\n",
    "tdata = []\n",
    "xdata = []\n",
    "ydata = []\n",
    "zdata = []\n",
    "\n",
    "lines = []\n",
    "lines0 = []\n",
    "lines1 = []\n",
    "lines2 = []\n",
    "\n",
    "def animate_projections(i):\n",
    "    \n",
    "    tdata.append(t[i])\n",
    "    xdata.append(y0_x[i])\n",
    "    ydata.append(y0_y[i])\n",
    "    zdata.append(y0_z[i])\n",
    "    \n",
    "    global ax, lines, lines1, lines2\n",
    "    \n",
    "    for line in lines:\n",
    "        line.remove()\n",
    "    for line in lines1:\n",
    "        line.remove()\n",
    "    for line in lines2:\n",
    "        line.remove()\n",
    "    \n",
    "    lines1 = ax[0].plot(xdata, ydata, color=\"blue\")\n",
    "    lines = ax[1].plot(ydata, zdata, color=\"blue\")\n",
    "    lines2 = ax[2].plot(xdata, zdata, color=\"blue\")\n",
    "    return ax\n",
    "\n",
    "animate_projections = FuncAnimation(fig, \n",
    "                                    animate_projections, \n",
    "                                    frames = len(t_ev), \n",
    "                                    interval = 10, \n",
    "                                    repeat = False, \n",
    "                                    blit = True)\n",
    "\n",
    "plt.tight_layout()\n",
    "plt.show()"
   ]
  },
  {
   "cell_type": "code",
   "execution_count": null,
   "id": "95b3728b",
   "metadata": {},
   "outputs": [],
   "source": [
    "len(t_ev)==len(y0_x)"
   ]
  },
  {
   "cell_type": "code",
   "execution_count": 28,
   "id": "30e3f998",
   "metadata": {
    "scrolled": false
   },
   "outputs": [
    {
     "name": "stdout",
     "output_type": "stream",
     "text": [
      "20000\n",
      "[                   0                    0                    0 ...\n",
      "                    0 -4824909194466158940                    0]\n"
     ]
    }
   ],
   "source": [
    "import numpy as np\n",
    "from scipy.io import wavfile\n",
    "\n",
    "sampleRate = 44100\n",
    "frequency = np.array([0,1,2,3,4,5,6,7,8,9,10,11,12,13,14,15,16,17,18,19])#y0_x\n",
    "length = len(frequency)#len(t_ev)\n",
    "\n",
    "t = np.linspace(0, length, sampleRate * length)  \n",
    "\n",
    "y0 = np.sin(frequency * 2 * np.pi)\n",
    "\n",
    "y = np.empty(shape = y0.shape, dtype=int)\n",
    "\n",
    "initial_data_size = len(y0)\n",
    "final_data_size = 1000*initial_data_size\n",
    "loop_number = final_data_size//initial_data_size-1\n",
    "\n",
    "for _ in range(loop_number):\n",
    "    for i in range(len(y0)):\n",
    "        y = np.insert(y, 2*i+1, y0[i])\n",
    "\n",
    "print(len(y))\n",
    "print(y)\n",
    "\n",
    "\n",
    "#print(len(t))\n",
    "\n",
    "#wavfile.write('Sine.wav', sampleRate, y)"
   ]
  },
  {
   "cell_type": "code",
   "execution_count": 27,
   "id": "5db1ef0f",
   "metadata": {},
   "outputs": [
    {
     "ename": "ValueError",
     "evalue": "x and y must have same first dimension, but have shapes (882000,) and (20000,)",
     "output_type": "error",
     "traceback": [
      "\u001b[0;31m---------------------------------------------------------------------------\u001b[0m",
      "\u001b[0;31mValueError\u001b[0m                                Traceback (most recent call last)",
      "\u001b[0;32m<ipython-input-27-99cfc8957ca6>\u001b[0m in \u001b[0;36m<module>\u001b[0;34m\u001b[0m\n\u001b[0;32m----> 1\u001b[0;31m \u001b[0mplt\u001b[0m\u001b[0;34m.\u001b[0m\u001b[0mplot\u001b[0m\u001b[0;34m(\u001b[0m\u001b[0mt\u001b[0m\u001b[0;34m,\u001b[0m\u001b[0my\u001b[0m\u001b[0;34m)\u001b[0m\u001b[0;34m\u001b[0m\u001b[0;34m\u001b[0m\u001b[0m\n\u001b[0m\u001b[1;32m      2\u001b[0m \u001b[0mplt\u001b[0m\u001b[0;34m.\u001b[0m\u001b[0mshow\u001b[0m\u001b[0;34m(\u001b[0m\u001b[0;34m)\u001b[0m\u001b[0;34m\u001b[0m\u001b[0;34m\u001b[0m\u001b[0m\n",
      "\u001b[0;32m/opt/anaconda3/lib/python3.8/site-packages/matplotlib/pyplot.py\u001b[0m in \u001b[0;36mplot\u001b[0;34m(scalex, scaley, data, *args, **kwargs)\u001b[0m\n\u001b[1;32m   2838\u001b[0m \u001b[0;34m@\u001b[0m\u001b[0m_copy_docstring_and_deprecators\u001b[0m\u001b[0;34m(\u001b[0m\u001b[0mAxes\u001b[0m\u001b[0;34m.\u001b[0m\u001b[0mplot\u001b[0m\u001b[0;34m)\u001b[0m\u001b[0;34m\u001b[0m\u001b[0;34m\u001b[0m\u001b[0m\n\u001b[1;32m   2839\u001b[0m \u001b[0;32mdef\u001b[0m \u001b[0mplot\u001b[0m\u001b[0;34m(\u001b[0m\u001b[0;34m*\u001b[0m\u001b[0margs\u001b[0m\u001b[0;34m,\u001b[0m \u001b[0mscalex\u001b[0m\u001b[0;34m=\u001b[0m\u001b[0;32mTrue\u001b[0m\u001b[0;34m,\u001b[0m \u001b[0mscaley\u001b[0m\u001b[0;34m=\u001b[0m\u001b[0;32mTrue\u001b[0m\u001b[0;34m,\u001b[0m \u001b[0mdata\u001b[0m\u001b[0;34m=\u001b[0m\u001b[0;32mNone\u001b[0m\u001b[0;34m,\u001b[0m \u001b[0;34m**\u001b[0m\u001b[0mkwargs\u001b[0m\u001b[0;34m)\u001b[0m\u001b[0;34m:\u001b[0m\u001b[0;34m\u001b[0m\u001b[0;34m\u001b[0m\u001b[0m\n\u001b[0;32m-> 2840\u001b[0;31m     return gca().plot(\n\u001b[0m\u001b[1;32m   2841\u001b[0m         \u001b[0;34m*\u001b[0m\u001b[0margs\u001b[0m\u001b[0;34m,\u001b[0m \u001b[0mscalex\u001b[0m\u001b[0;34m=\u001b[0m\u001b[0mscalex\u001b[0m\u001b[0;34m,\u001b[0m \u001b[0mscaley\u001b[0m\u001b[0;34m=\u001b[0m\u001b[0mscaley\u001b[0m\u001b[0;34m,\u001b[0m\u001b[0;34m\u001b[0m\u001b[0;34m\u001b[0m\u001b[0m\n\u001b[1;32m   2842\u001b[0m         **({\"data\": data} if data is not None else {}), **kwargs)\n",
      "\u001b[0;32m/opt/anaconda3/lib/python3.8/site-packages/matplotlib/axes/_axes.py\u001b[0m in \u001b[0;36mplot\u001b[0;34m(self, scalex, scaley, data, *args, **kwargs)\u001b[0m\n\u001b[1;32m   1741\u001b[0m         \"\"\"\n\u001b[1;32m   1742\u001b[0m         \u001b[0mkwargs\u001b[0m \u001b[0;34m=\u001b[0m \u001b[0mcbook\u001b[0m\u001b[0;34m.\u001b[0m\u001b[0mnormalize_kwargs\u001b[0m\u001b[0;34m(\u001b[0m\u001b[0mkwargs\u001b[0m\u001b[0;34m,\u001b[0m \u001b[0mmlines\u001b[0m\u001b[0;34m.\u001b[0m\u001b[0mLine2D\u001b[0m\u001b[0;34m)\u001b[0m\u001b[0;34m\u001b[0m\u001b[0;34m\u001b[0m\u001b[0m\n\u001b[0;32m-> 1743\u001b[0;31m         \u001b[0mlines\u001b[0m \u001b[0;34m=\u001b[0m \u001b[0;34m[\u001b[0m\u001b[0;34m*\u001b[0m\u001b[0mself\u001b[0m\u001b[0;34m.\u001b[0m\u001b[0m_get_lines\u001b[0m\u001b[0;34m(\u001b[0m\u001b[0;34m*\u001b[0m\u001b[0margs\u001b[0m\u001b[0;34m,\u001b[0m \u001b[0mdata\u001b[0m\u001b[0;34m=\u001b[0m\u001b[0mdata\u001b[0m\u001b[0;34m,\u001b[0m \u001b[0;34m**\u001b[0m\u001b[0mkwargs\u001b[0m\u001b[0;34m)\u001b[0m\u001b[0;34m]\u001b[0m\u001b[0;34m\u001b[0m\u001b[0;34m\u001b[0m\u001b[0m\n\u001b[0m\u001b[1;32m   1744\u001b[0m         \u001b[0;32mfor\u001b[0m \u001b[0mline\u001b[0m \u001b[0;32min\u001b[0m \u001b[0mlines\u001b[0m\u001b[0;34m:\u001b[0m\u001b[0;34m\u001b[0m\u001b[0;34m\u001b[0m\u001b[0m\n\u001b[1;32m   1745\u001b[0m             \u001b[0mself\u001b[0m\u001b[0;34m.\u001b[0m\u001b[0madd_line\u001b[0m\u001b[0;34m(\u001b[0m\u001b[0mline\u001b[0m\u001b[0;34m)\u001b[0m\u001b[0;34m\u001b[0m\u001b[0;34m\u001b[0m\u001b[0m\n",
      "\u001b[0;32m/opt/anaconda3/lib/python3.8/site-packages/matplotlib/axes/_base.py\u001b[0m in \u001b[0;36m__call__\u001b[0;34m(self, data, *args, **kwargs)\u001b[0m\n\u001b[1;32m    271\u001b[0m                 \u001b[0mthis\u001b[0m \u001b[0;34m+=\u001b[0m \u001b[0margs\u001b[0m\u001b[0;34m[\u001b[0m\u001b[0;36m0\u001b[0m\u001b[0;34m]\u001b[0m\u001b[0;34m,\u001b[0m\u001b[0;34m\u001b[0m\u001b[0;34m\u001b[0m\u001b[0m\n\u001b[1;32m    272\u001b[0m                 \u001b[0margs\u001b[0m \u001b[0;34m=\u001b[0m \u001b[0margs\u001b[0m\u001b[0;34m[\u001b[0m\u001b[0;36m1\u001b[0m\u001b[0;34m:\u001b[0m\u001b[0;34m]\u001b[0m\u001b[0;34m\u001b[0m\u001b[0;34m\u001b[0m\u001b[0m\n\u001b[0;32m--> 273\u001b[0;31m             \u001b[0;32myield\u001b[0m \u001b[0;32mfrom\u001b[0m \u001b[0mself\u001b[0m\u001b[0;34m.\u001b[0m\u001b[0m_plot_args\u001b[0m\u001b[0;34m(\u001b[0m\u001b[0mthis\u001b[0m\u001b[0;34m,\u001b[0m \u001b[0mkwargs\u001b[0m\u001b[0;34m)\u001b[0m\u001b[0;34m\u001b[0m\u001b[0;34m\u001b[0m\u001b[0m\n\u001b[0m\u001b[1;32m    274\u001b[0m \u001b[0;34m\u001b[0m\u001b[0m\n\u001b[1;32m    275\u001b[0m     \u001b[0;32mdef\u001b[0m \u001b[0mget_next_color\u001b[0m\u001b[0;34m(\u001b[0m\u001b[0mself\u001b[0m\u001b[0;34m)\u001b[0m\u001b[0;34m:\u001b[0m\u001b[0;34m\u001b[0m\u001b[0;34m\u001b[0m\u001b[0m\n",
      "\u001b[0;32m/opt/anaconda3/lib/python3.8/site-packages/matplotlib/axes/_base.py\u001b[0m in \u001b[0;36m_plot_args\u001b[0;34m(self, tup, kwargs)\u001b[0m\n\u001b[1;32m    397\u001b[0m \u001b[0;34m\u001b[0m\u001b[0m\n\u001b[1;32m    398\u001b[0m         \u001b[0;32mif\u001b[0m \u001b[0mx\u001b[0m\u001b[0;34m.\u001b[0m\u001b[0mshape\u001b[0m\u001b[0;34m[\u001b[0m\u001b[0;36m0\u001b[0m\u001b[0;34m]\u001b[0m \u001b[0;34m!=\u001b[0m \u001b[0my\u001b[0m\u001b[0;34m.\u001b[0m\u001b[0mshape\u001b[0m\u001b[0;34m[\u001b[0m\u001b[0;36m0\u001b[0m\u001b[0;34m]\u001b[0m\u001b[0;34m:\u001b[0m\u001b[0;34m\u001b[0m\u001b[0;34m\u001b[0m\u001b[0m\n\u001b[0;32m--> 399\u001b[0;31m             raise ValueError(f\"x and y must have same first dimension, but \"\n\u001b[0m\u001b[1;32m    400\u001b[0m                              f\"have shapes {x.shape} and {y.shape}\")\n\u001b[1;32m    401\u001b[0m         \u001b[0;32mif\u001b[0m \u001b[0mx\u001b[0m\u001b[0;34m.\u001b[0m\u001b[0mndim\u001b[0m \u001b[0;34m>\u001b[0m \u001b[0;36m2\u001b[0m \u001b[0;32mor\u001b[0m \u001b[0my\u001b[0m\u001b[0;34m.\u001b[0m\u001b[0mndim\u001b[0m \u001b[0;34m>\u001b[0m \u001b[0;36m2\u001b[0m\u001b[0;34m:\u001b[0m\u001b[0;34m\u001b[0m\u001b[0;34m\u001b[0m\u001b[0m\n",
      "\u001b[0;31mValueError\u001b[0m: x and y must have same first dimension, but have shapes (882000,) and (20000,)"
     ]
    }
   ],
   "source": [
    "plt.plot(t,y)\n",
    "plt.show()"
   ]
  },
  {
   "cell_type": "code",
   "execution_count": 29,
   "id": "0d94069b",
   "metadata": {},
   "outputs": [
    {
     "name": "stdout",
     "output_type": "stream",
     "text": [
      "1000\n"
     ]
    }
   ],
   "source": [
    "print(N)\n",
    "wavfile.write('Sine.wav', sampleRate, y)"
   ]
  },
  {
   "cell_type": "code",
   "execution_count": 25,
   "id": "32fc1af8",
   "metadata": {},
   "outputs": [],
   "source": [
    "from scipy.io.wavfile import write\n",
    "samplerate = 44100\n",
    "fs = 100\n",
    "t = np.linspace(0., 1., samplerate)\n",
    "amplitude = np.iinfo(np.int16).max\n",
    "data = amplitude * np.sin(2. * np.pi * fs * t)\n",
    "write(\"example.wav\", samplerate, data.astype(np.int16))"
   ]
  }
 ],
 "metadata": {
  "kernelspec": {
   "display_name": "Python 3",
   "language": "python",
   "name": "python3"
  },
  "language_info": {
   "codemirror_mode": {
    "name": "ipython",
    "version": 3
   },
   "file_extension": ".py",
   "mimetype": "text/x-python",
   "name": "python",
   "nbconvert_exporter": "python",
   "pygments_lexer": "ipython3",
   "version": "3.8.8"
  }
 },
 "nbformat": 4,
 "nbformat_minor": 5
}
